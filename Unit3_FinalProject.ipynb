{
 "cells": [
  {
   "cell_type": "markdown",
   "metadata": {},
   "source": [
    "# Unit 3 Final Projects: Calculating evolutionary distance\n",
    "\n",
    "In this notebook you will compare the sequence of a particular gene from 3 different species to find out which two are most closely related. \n",
    "\n",
    "You will need to do the following:\n",
    "1. Open and read in your files\n",
    "2. Decide which sequences to compare (DNA, RNA, or protein)\n",
    "3. Write code that prints out the percent similarity of each pair of sequences"
   ]
  },
  {
   "cell_type": "code",
   "execution_count": 6,
   "metadata": {},
   "outputs": [],
   "source": [
    "onea = open(\"1a_CSN2_DNA.txt\").read()\n",
    "oneb = open(\"1b_CSN2_DNA.txt\").read()\n",
    "onec = open(\"1c_CSN2_DNA.txt\").read()"
   ]
  },
  {
   "cell_type": "code",
   "execution_count": 7,
   "metadata": {},
   "outputs": [
    {
     "name": "stdout",
     "output_type": "stream",
     "text": [
      "66\n",
      "204\n",
      "202\n"
     ]
    }
   ],
   "source": [
    "iab = 0\n",
    "for i, base in enumerate(onea):\n",
    "    if oneb[i] != base:\n",
    "        iab += 1\n",
    "        \n",
    "print(iab)\n",
    "\n",
    "iac = 0\n",
    "for i, base in enumerate(onea):\n",
    "    if onec[i] != base:\n",
    "        iac += 1\n",
    "        \n",
    "print(iac)\n",
    "\n",
    "ibc = 0\n",
    "for i, base in enumerate(oneb):\n",
    "    if onec[i] != base:\n",
    "        ibc += 1\n",
    "        \n",
    "print(ibc)"
   ]
  },
  {
   "cell_type": "code",
   "execution_count": 8,
   "metadata": {},
   "outputs": [
    {
     "name": "stdout",
     "output_type": "stream",
     "text": [
      "23.404255319148938 72.3404255319149 71.63120567375887\n"
     ]
    }
   ],
   "source": [
    "a = iab/len(onea)*100\n",
    "b = iac/len(onea)*100\n",
    "c = ibc/len(onea)*100\n",
    "print(a, b, c)"
   ]
  },
  {
   "cell_type": "code",
   "execution_count": null,
   "metadata": {},
   "outputs": [],
   "source": []
  },
  {
   "cell_type": "markdown",
   "metadata": {},
   "source": [
    "## Bonus Challenge\n",
    "\n",
    "Visualize your results! Choose a graph type that you think will communicate your conclusions effectively and create it using matplotlib:"
   ]
  },
  {
   "cell_type": "code",
   "execution_count": null,
   "metadata": {},
   "outputs": [],
   "source": []
  },
  {
   "cell_type": "code",
   "execution_count": 11,
   "metadata": {},
   "outputs": [
    {
     "data": {
      "image/png": "[encoded data removed]",
      "text/plain": [
       "<Figure size 432x288 with 1 Axes>"
      ]
     },
     "metadata": {
      "needs_background": "light"
     },
     "output_type": "display_data"
    }
   ],
   "source": [
    "import matplotlib.pyplot as plt\n",
    "plt.bar([1, 2, 3], [a, c, b], color = [\"#ff5050\", \"#80e5ff\", \"#A0A0A0\"])\n",
    "plt.title(\"Percent Differences between Animals' DNA\")\n",
    "plt.xticks([1, 2, 3], [\"Minke and Hippo\", \"Hippo and Boar\", \"Minke and Boar\"])\n",
    "plt.ylabel(\"Percent\")\n",
    "plt.xlabel(\"Animal Pairs\")\n",
    "plt.savefig(\"Percent Differences between Animals' DNA\", dpi = 1000)\n",
    "plt.show()"
   ]
  },
  {
   "cell_type": "markdown",
   "metadata": {},
   "source": [
    "## Bonus Challenge 2\n",
    "If you finish your project and want to try a challenge, come up with a hypothesis about which of the following species are most closely related to humans (carp, chicken, chimp, dog, eel, elephant, frog, gorilla, macaque monkey, mouse, orangutan, pig). Write out a ranked list with the species you think is most related to humans at the top.\n",
    "\n",
    "Then calculate the percent difference between the hemoglobin amino acid sequences of humans and each species to find out how close you came to the right ranking!"
   ]
  },
  {
   "cell_type": "code",
   "execution_count": null,
   "metadata": {},
   "outputs": [],
   "source": []
  }
 ],
 "metadata": {
  "kernelspec": {
   "display_name": "Python 3",
   "language": "python",
   "name": "python3"
  },
  "language_info": {
   "codemirror_mode": {
    "name": "ipython",
    "version": 3
   },
   "file_extension": ".py",
   "mimetype": "text/x-python",
   "name": "python",
   "nbconvert_exporter": "python",
   "pygments_lexer": "ipython3",
   "version": "3.7.3"
  }
 },
 "nbformat": 4,
 "nbformat_minor": 2
}
