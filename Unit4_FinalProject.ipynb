{
 "cells": [
  {
   "cell_type": "markdown",
   "metadata": {},
   "source": [
    "# Making a CMD for your Star Cluster\n",
    "\n",
    "This notebook introduces a few commands that you'll need to make the Color Magnitude Diagram for your star cluster. You can also use the cells below to write code for your unit project."
   ]
  },
  {
   "cell_type": "markdown",
   "metadata": {},
   "source": [
    "## .loc[ ] indexing"
   ]
  },
  {
   "cell_type": "code",
   "execution_count": null,
   "metadata": {},
   "outputs": [],
   "source": [
    "import pandas as pd"
   ]
  },
  {
   "cell_type": "code",
   "execution_count": null,
   "metadata": {},
   "outputs": [],
   "source": [
    "# Here we create a sample dataframe\n",
    "sample_df = pd.DataFrame({\"column 1\": [20,50,15,50,65,50,10], \"column 2\": [0,1,1,1,0,0,1]})\n",
    "sample_df"
   ]
  },
  {
   "cell_type": "markdown",
   "metadata": {},
   "source": [
    "You can use the .loc index method to select all the items in one column which have a particular value in the second column. For example, we may want to select all items from column 1 that have a value of 0 in column 2.\n",
    "\n",
    "Follow along with the live coding activity to see how this works."
   ]
  },
  {
   "cell_type": "code",
   "execution_count": null,
   "metadata": {},
   "outputs": [],
   "source": [
    "# This code selects all values from column 1 where the value on that same row in column 2 is equal to 0"
   ]
  },
  {
   "cell_type": "markdown",
   "metadata": {},
   "source": [
    "Now you try! Select all the values from column 1 where the value on that same row in column 2 is equal to 1."
   ]
  },
  {
   "cell_type": "code",
   "execution_count": null,
   "metadata": {},
   "outputs": [],
   "source": []
  },
  {
   "cell_type": "markdown",
   "metadata": {},
   "source": [
    "Now select all the values from column 2 where the value on that same row in column 1 is equal to 50."
   ]
  },
  {
   "cell_type": "code",
   "execution_count": null,
   "metadata": {},
   "outputs": [],
   "source": []
  },
  {
   "cell_type": "markdown",
   "metadata": {},
   "source": [
    "#### Note: You can store these selected values in a variable, just like you've done with entire columns!"
   ]
  },
  {
   "cell_type": "markdown",
   "metadata": {},
   "source": [
    "## Finding absolute magnitude"
   ]
  },
  {
   "cell_type": "markdown",
   "metadata": {},
   "source": [
    "You will need to convert \"G\" to absolute magnitude for your CMD.\n",
    "\n",
    "Look in the dataset for distance. Using G and distance, you can calculate absolute magnitude using the following equation:\n",
    "\n",
    "absolute magnitude = G - 5 * log(distance) + 5"
   ]
  },
  {
   "cell_type": "code",
   "execution_count": 4,
   "metadata": {},
   "outputs": [],
   "source": [
    "# You will need to import numpy\n",
    "import numpy as np\n",
    "import matplotlib.pyplot as plt\n",
    "import matplotlib.colors as mpl"
   ]
  },
  {
   "cell_type": "code",
   "execution_count": 5,
   "metadata": {},
   "outputs": [],
   "source": [
    "# You can use this function in your code to find the log of distance:\n",
    "\n",
    "# np.log10()"
   ]
  },
  {
   "cell_type": "markdown",
   "metadata": {},
   "source": [
    "### Your first task is to create a Color Magnitude Diagram for your star cluster\n",
    "You can use as many of the cells below as you need. You can add new cells with the \"+\" button."
   ]
  },
  {
   "cell_type": "code",
   "execution_count": 6,
   "metadata": {},
   "outputs": [
    {
     "data": {
      "text/html": [
       "<div>\n",
       "<style scoped>\n",
       "    .dataframe tbody tr th:only-of-type {\n",
       "        vertical-align: middle;\n",
       "    }\n",
       "\n",
       "    .dataframe tbody tr th {\n",
       "        vertical-align: top;\n",
       "    }\n",
       "\n",
       "    .dataframe thead th {\n",
       "        text-align: right;\n",
       "    }\n",
       "</style>\n",
       "<table border=\"1\" class=\"dataframe\">\n",
       "  <thead>\n",
       "    <tr style=\"text-align: right;\">\n",
       "      <th></th>\n",
       "      <th>row_id</th>\n",
       "      <th>tgas_source_id</th>\n",
       "      <th>name</th>\n",
       "      <th>ra</th>\n",
       "      <th>dec</th>\n",
       "      <th>parallax</th>\n",
       "      <th>distance</th>\n",
       "      <th>G</th>\n",
       "      <th>J</th>\n",
       "      <th>rave_obs_id</th>\n",
       "      <th>rv</th>\n",
       "      <th>erv</th>\n",
       "      <th>group_id</th>\n",
       "      <th>group_size</th>\n",
       "    </tr>\n",
       "  </thead>\n",
       "  <tbody>\n",
       "    <tr>\n",
       "      <th>0</th>\n",
       "      <td>659</td>\n",
       "      <td>49809491645958528</td>\n",
       "      <td>TYC 1253-388-1</td>\n",
       "      <td>59.457281</td>\n",
       "      <td>18.562195</td>\n",
       "      <td>7.7395</td>\n",
       "      <td>129.949</td>\n",
       "      <td>11.160</td>\n",
       "      <td>9.984</td>\n",
       "      <td>NaN</td>\n",
       "      <td>NaN</td>\n",
       "      <td>NaN</td>\n",
       "      <td>0</td>\n",
       "      <td>151</td>\n",
       "    </tr>\n",
       "    <tr>\n",
       "      <th>1</th>\n",
       "      <td>1559</td>\n",
       "      <td>66939848447027584</td>\n",
       "      <td>TYC 1804-1924-1</td>\n",
       "      <td>57.070387</td>\n",
       "      <td>25.214932</td>\n",
       "      <td>7.6087</td>\n",
       "      <td>132.557</td>\n",
       "      <td>9.066</td>\n",
       "      <td>8.137</td>\n",
       "      <td>20120109_0346p23_140</td>\n",
       "      <td>2.95</td>\n",
       "      <td>1.6</td>\n",
       "      <td>0</td>\n",
       "      <td>151</td>\n",
       "    </tr>\n",
       "    <tr>\n",
       "      <th>2</th>\n",
       "      <td>1904</td>\n",
       "      <td>50905051903831680</td>\n",
       "      <td>HIP 18091</td>\n",
       "      <td>58.003444</td>\n",
       "      <td>19.596690</td>\n",
       "      <td>6.7611</td>\n",
       "      <td>148.752</td>\n",
       "      <td>10.265</td>\n",
       "      <td>9.267</td>\n",
       "      <td>NaN</td>\n",
       "      <td>NaN</td>\n",
       "      <td>NaN</td>\n",
       "      <td>0</td>\n",
       "      <td>151</td>\n",
       "    </tr>\n",
       "    <tr>\n",
       "      <th>3</th>\n",
       "      <td>1929</td>\n",
       "      <td>51452746133437696</td>\n",
       "      <td>HIP 18544</td>\n",
       "      <td>59.507154</td>\n",
       "      <td>20.676596</td>\n",
       "      <td>7.6989</td>\n",
       "      <td>131.839</td>\n",
       "      <td>9.249</td>\n",
       "      <td>8.436</td>\n",
       "      <td>NaN</td>\n",
       "      <td>NaN</td>\n",
       "      <td>NaN</td>\n",
       "      <td>0</td>\n",
       "      <td>151</td>\n",
       "    </tr>\n",
       "    <tr>\n",
       "      <th>4</th>\n",
       "      <td>1944</td>\n",
       "      <td>51619115986889472</td>\n",
       "      <td>TYC 1261-1630-1</td>\n",
       "      <td>58.370320</td>\n",
       "      <td>20.907178</td>\n",
       "      <td>7.4847</td>\n",
       "      <td>134.194</td>\n",
       "      <td>11.553</td>\n",
       "      <td>10.096</td>\n",
       "      <td>NaN</td>\n",
       "      <td>NaN</td>\n",
       "      <td>NaN</td>\n",
       "      <td>0</td>\n",
       "      <td>151</td>\n",
       "    </tr>\n",
       "  </tbody>\n",
       "</table>\n",
       "</div>"
      ],
      "text/plain": [
       "   row_id     tgas_source_id             name         ra        dec  parallax  \\\n",
       "0     659  49809491645958528   TYC 1253-388-1  59.457281  18.562195    7.7395   \n",
       "1    1559  66939848447027584  TYC 1804-1924-1  57.070387  25.214932    7.6087   \n",
       "2    1904  50905051903831680        HIP 18091  58.003444  19.596690    6.7611   \n",
       "3    1929  51452746133437696        HIP 18544  59.507154  20.676596    7.6989   \n",
       "4    1944  51619115986889472  TYC 1261-1630-1  58.370320  20.907178    7.4847   \n",
       "\n",
       "   distance       G       J           rave_obs_id    rv  erv  group_id  \\\n",
       "0   129.949  11.160   9.984                   NaN   NaN  NaN         0   \n",
       "1   132.557   9.066   8.137  20120109_0346p23_140  2.95  1.6         0   \n",
       "2   148.752  10.265   9.267                   NaN   NaN  NaN         0   \n",
       "3   131.839   9.249   8.436                   NaN   NaN  NaN         0   \n",
       "4   134.194  11.553  10.096                   NaN   NaN  NaN         0   \n",
       "\n",
       "   group_size  \n",
       "0         151  \n",
       "1         151  \n",
       "2         151  \n",
       "3         151  \n",
       "4         151  "
      ]
     },
     "execution_count": 6,
     "metadata": {},
     "output_type": "execute_result"
    }
   ],
   "source": [
    "oh = pd.read_csv(\"oh_table.csv\")\n",
    "oh.head()"
   ]
  },
  {
   "cell_type": "code",
   "execution_count": 7,
   "metadata": {},
   "outputs": [],
   "source": [
    "distance = oh[\"distance\"].loc[oh[\"group_id\"] == 0]\n",
    "G = oh[\"G\"].loc[oh[\"group_id\"] == 0]\n",
    "J = oh[\"J\"].loc[oh[\"group_id\"] == 0]"
   ]
  },
  {
   "cell_type": "code",
   "execution_count": 8,
   "metadata": {},
   "outputs": [
    {
     "data": {
      "text/plain": [
       "0.2037731174058086"
      ]
     },
     "execution_count": 8,
     "metadata": {},
     "output_type": "execute_result"
    }
   ],
   "source": [
    "mag = G - 5 * np.log10(distance) + 5\n",
    "max(mag)\n",
    "min(mag)"
   ]
  },
  {
   "cell_type": "markdown",
   "metadata": {
    "collapsed": true
   },
   "source": []
  },
  {
   "cell_type": "code",
   "execution_count": 33,
   "metadata": {},
   "outputs": [
    {
     "data": {
      "image/png": "[encoded data removed]",
      "text/plain": [
       "<Figure size 432x288 with 1 Axes>"
      ]
     },
     "metadata": {
      "needs_background": "light"
     },
     "output_type": "display_data"
    }
   ],
   "source": [
    "plt.scatter(G-J, mag)\n",
    "plt.ylim([0, 7])\n",
    "plt.xlabel('Color')\n",
    "plt.ylabel('Absolute Magnitude')\n",
    "plt.title('HR Diagram')\n",
    "plt.gca().invert_xaxis() \n",
    "plt.show()"
   ]
  },
  {
   "cell_type": "code",
   "execution_count": null,
   "metadata": {},
   "outputs": [],
   "source": []
  },
  {
   "cell_type": "code",
   "execution_count": null,
   "metadata": {},
   "outputs": [],
   "source": []
  },
  {
   "cell_type": "markdown",
   "metadata": {},
   "source": [
    "### Coding Challenge 1: Add the sun to your color magnitude diagram"
   ]
  },
  {
   "cell_type": "code",
   "execution_count": 38,
   "metadata": {},
   "outputs": [
    {
     "data": {
      "image/png": "[encoded data removed]",
      "text/plain": [
       "<Figure size 432x288 with 1 Axes>"
      ]
     },
     "metadata": {
      "needs_background": "light"
     },
     "output_type": "display_data"
    }
   ],
   "source": [
    "plt.scatter(G-J, mag)\n",
    "plt.scatter(0.3, 4.77, c='green', s=200, marker='*')\n",
    "plt.ylim([0, 7])\n",
    "plt.xlabel('Color')\n",
    "plt.ylabel('Absolute Magnitude')\n",
    "plt.title('HR Diagram')\n",
    "plt.gca().invert_xaxis() \n",
    "plt.show()"
   ]
  },
  {
   "cell_type": "markdown",
   "metadata": {},
   "source": [
    "### Coding Challenge 2: Add a colormap to your diagram"
   ]
  },
  {
   "cell_type": "code",
   "execution_count": 22,
   "metadata": {},
   "outputs": [
    {
     "data": {
      "image/png": "[encoded data removed]",
      "text/plain": [
       "<Figure size 432x288 with 1 Axes>"
      ]
     },
     "metadata": {
      "needs_background": "light"
     },
     "output_type": "display_data"
    }
   ],
   "source": [
    "cm = plt.cm.get_cmap(\"RdYlBu\")# This is the colormap we'll use for our data points. Note: _r reverses the colormap\n",
    "plt.scatter(G-J, mag, c=mag, s=35, cmap=cm) # This plots all our points as a scatterplot\n",
    "plt.ylim([0, 7])\n",
    "plt.xlabel('Color')\n",
    "plt.ylabel('Absolute Magnitude')\n",
    "plt.title('HR Diagram')\n",
    "plt.gca().invert_xaxis() \n",
    "plt.show()"
   ]
  },
  {
   "cell_type": "markdown",
   "metadata": {},
   "source": [
    "### Coding Challenge 3: Create histograms for the absolute magnitude and color of your star cluster"
   ]
  },
  {
   "cell_type": "code",
   "execution_count": 30,
   "metadata": {},
   "outputs": [
    {
     "data": {
      "text/plain": [
       "(array([ 6.,  5.,  7.,  3.,  8.,  7.,  5.,  6.,  6., 11., 13., 11., 14.,\n",
       "        13.,  9., 10., 10.,  2.,  4.,  1.]),\n",
       " array([0.033  , 0.11115, 0.1893 , 0.26745, 0.3456 , 0.42375, 0.5019 ,\n",
       "        0.58005, 0.6582 , 0.73635, 0.8145 , 0.89265, 0.9708 , 1.04895,\n",
       "        1.1271 , 1.20525, 1.2834 , 1.36155, 1.4397 , 1.51785, 1.596  ]),\n",
       " <a list of 20 Patch objects>)"
      ]
     },
     "execution_count": 30,
     "metadata": {},
     "output_type": "execute_result"
    },
    {
     "data": {
      "image/png": "[encoded data removed]",
      "text/plain": [
       "<Figure size 432x288 with 1 Axes>"
      ]
     },
     "metadata": {
      "needs_background": "light"
     },
     "output_type": "display_data"
    }
   ],
   "source": [
    "plt.hist(G-J, 20)"
   ]
  },
  {
   "cell_type": "code",
   "execution_count": null,
   "metadata": {},
   "outputs": [],
   "source": []
  }
 ],
 "metadata": {
  "kernelspec": {
   "display_name": "Python 3",
   "language": "python",
   "name": "python3"
  },
  "language_info": {
   "codemirror_mode": {
    "name": "ipython",
    "version": 3
   },
   "file_extension": ".py",
   "mimetype": "text/x-python",
   "name": "python",
   "nbconvert_exporter": "python",
   "pygments_lexer": "ipython3",
   "version": "3.7.3"
  }
 },
 "nbformat": 4,
 "nbformat_minor": 2
}
